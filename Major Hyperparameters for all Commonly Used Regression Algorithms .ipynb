{
 "cells": [
  {
   "cell_type": "markdown",
   "id": "aea2ffca-3e63-414c-a2b7-e3383c12e110",
   "metadata": {},
   "source": [
    "## Major Important Hyperparameters for all Commonly used Regression Algorithms"
   ]
  },
  {
   "cell_type": "markdown",
   "id": "6f4fd3a9-74c7-4436-8017-02137bb5d01c",
   "metadata": {},
   "source": [
    "1. Linear Regression\n",
    "2. Ridge Regression\n",
    "3. LASSO Regression\n",
    "4. ElasticNet Regression\n",
    "5. Decision Tree Regression\n",
    "6. Random Forest Regression\n",
    "7. Gradient Boosting Regression\n",
    "8. AdaBoost Regression\n",
    "9. SVR (Support Vector Regression)\n",
    "10. KNeighbors Regression\n",
    "11. MLP Regression\n",
    "12. XGB Regression\n",
    "13. LGBM Regression\n",
    "14. CatBoost Regression"
   ]
  },
  {
   "cell_type": "markdown",
   "id": "5828a98e-6e51-41c2-be4c-282ae8dabee3",
   "metadata": {},
   "source": [
    "## 1. Linear Regression"
   ]
  },
  {
   "cell_type": "markdown",
   "id": "7647c73a-5134-49e0-91bb-609c681ebee0",
   "metadata": {},
   "source": [
    "**No Hyperparameters** - Linear Regression in sklearn has no tunable hyperparamters"
   ]
  },
  {
   "cell_type": "markdown",
   "id": "e6620956-fdd3-4d2c-bdc0-e3558c7992ea",
   "metadata": {},
   "source": [
    "## 2. Ridge Regression"
   ]
  },
  {
   "cell_type": "markdown",
   "id": "6807c656-a47b-4dee-b314-4fc7a95bec5d",
   "metadata": {},
   "source": [
    "- **alpha**  - Regularization Strength (higher values mean more regularization)\n",
    "- **solver** - Algorithm used for Optimization ('auto', 'svd', 'cholesky', 'lsqr', 'sag', 'saga')"
   ]
  },
  {
   "cell_type": "markdown",
   "id": "343bc91e-c6e7-4015-b685-6f557b4825dc",
   "metadata": {},
   "source": [
    "## 3. LASSO Regression"
   ]
  },
  {
   "cell_type": "markdown",
   "id": "f0d40075-2aa0-4ea5-8ff9-cb2b6db33247",
   "metadata": {},
   "source": [
    "- **alpha**     - Regularization Strength (higher values mean more feature selection)\n",
    "- **max_iter**  - Maximum number of iterations for convergence\n",
    "- **tol**       - Tolerance for optimization stopping criteria\n",
    "- **selection** - Feature Selection Method ('cyclic' or 'random')"
   ]
  },
  {
   "cell_type": "markdown",
   "id": "73e4e270-725a-41a3-b05e-425794141b0d",
   "metadata": {},
   "source": [
    "## 4. ElasticNet Regression"
   ]
  },
  {
   "cell_type": "markdown",
   "id": "703c556b-3e05-4f7b-a59b-3e3babd4b08f",
   "metadata": {},
   "source": [
    "- **alpha**    - Regularization Strength (controls both L1 and L2 Regularization)\n",
    "- **l1_ratio** - Balance Between L1 (LASSO) and L2 (Ridge) Regularization (0 = Ridge, 1 = LASSO)\n",
    "- **max_iter** - Maximum Number of Iterations\n",
    "- **tol**      - Tolerance for Optimization Stopping Criteria"
   ]
  },
  {
   "cell_type": "markdown",
   "id": "9fdc56da-fa59-4cf2-b04f-8b71771d1c8f",
   "metadata": {},
   "source": [
    "## 5. Decision Tree Regression"
   ]
  },
  {
   "cell_type": "markdown",
   "id": "ab932e92-7642-4cc0-a1c3-317c1d4c04cc",
   "metadata": {},
   "source": [
    "- **criterion**         - Split Quality Measurement ('mse', 'friedman_mse', 'mae', 'poisson')\n",
    "- **max_depth**         - Maximum Depth of Tree\n",
    "- **min_samples_split** - Minimum Samples Needed to Split a Node\n",
    "- **min_samples_leaf**  - Minimum Samples Needed at a Leaf Node\n",
    "- **max_features**      - Number of Features Considered for best split ('auto', 'sqrt', 'log2')"
   ]
  },
  {
   "cell_type": "markdown",
   "id": "282c9c47-f561-4877-8a41-acf4c6276aac",
   "metadata": {},
   "source": [
    "## 6. Random Forest Regression"
   ]
  },
  {
   "cell_type": "markdown",
   "id": "1865ee8c-7fae-4da6-bf59-d7e9b16ec34f",
   "metadata": {},
   "source": [
    "- **n_estimators** - Number of Trees\n",
    "- **max_depth** - Maximum Depth of Trees\n",
    "- **min_samples_split** - Minimum Samples to Split a Node\n",
    "- **min_samples_leaf** - Minimum Samples at a Leaf Node\n",
    "- **max_features** - Number of Features Considered for a best split\n",
    "- **bootstrap** - When to use bootstrap samples (True/False)"
   ]
  },
  {
   "cell_type": "markdown",
   "id": "b9fa0e8c-4f90-43d6-9f30-9d01fa3a9cf7",
   "metadata": {},
   "source": [
    "## 7. Gradient Boosting Regression"
   ]
  },
  {
   "cell_type": "markdown",
   "id": "94d2cbbb-0982-48d8-9273-4fde5b341422",
   "metadata": {},
   "source": [
    "- **n_estimators** - Number of Boosting Stages\n",
    "- **learning_rate** - Step size Shrinkage\n",
    "- **max_depth** - Maximum Depth of Each Tree\n",
    "- **min_samples_split** - Minimum samples required to split a node\n",
    "- **min_samples_leaf** - Minimum samples at a leaf node\n",
    "- **subsample** - Fraction of samples used for fitting each tree\n",
    "- **max_features** - Number of features considered for best split"
   ]
  },
  {
   "cell_type": "markdown",
   "id": "208d7c72-4f38-4809-b75e-46e1c9b48a3c",
   "metadata": {},
   "source": [
    "## 8. AdaBoost Regression"
   ]
  },
  {
   "cell_type": "markdown",
   "id": "d61dda90-4b40-4eb2-8e00-8a4f6c2eb9cc",
   "metadata": {},
   "source": [
    "- **n_estimators** - Number of Estimators\n",
    "- **learning_rate** - Shrinks Contribution of Each Estimators\n",
    "- **losss** - Loss Function ('linear', 'square', 'exponential')"
   ]
  },
  {
   "cell_type": "markdown",
   "id": "675ecd3f-b6e2-4b39-bc09-cbe034307cf6",
   "metadata": {},
   "source": [
    "## 9. SVR (Support Vector Regression)"
   ]
  },
  {
   "cell_type": "markdown",
   "id": "409692bc-7a17-455f-b6a2-5cfa6edb53b9",
   "metadata": {},
   "source": [
    "- **C** - Regularization Parameter\n",
    "- **Kernel** - Kernel Type('linear', 'poly', 'rbf', 'sigmoid')\n",
    "- **Gamma** - Kernel Coefficient('scale', 'auto' or float value)\n",
    "- **Epsilon** - Margin of Tolerance"
   ]
  },
  {
   "cell_type": "markdown",
   "id": "97b0558d-c048-486c-a317-169accf08344",
   "metadata": {},
   "source": [
    "## 10. KNeighbors Regression"
   ]
  },
  {
   "cell_type": "markdown",
   "id": "2f3bb72a-3acd-4e7c-99b2-5fe147e5659e",
   "metadata": {},
   "source": [
    "- **n_neighbors** - Number of neighbors to use\n",
    "- **weights** - Weight function ('uniform', 'distance')\n",
    "- **algorithm** - Search algorithm ('auto', 'ball_tree', 'kd_tree', 'brute')\n",
    "- **leaf_size** - Leaf size for trees\n",
    "- **p** - Power parameter for Minkowski ditance (1 = Manhattan, 2 = Euclidean)"
   ]
  },
  {
   "cell_type": "markdown",
   "id": "62d71a3c-4fee-4a98-970d-d63c472725bf",
   "metadata": {},
   "source": [
    "## 11. MLP Regression"
   ]
  },
  {
   "cell_type": "markdown",
   "id": "2d28f21b-4f37-45af-ba13-195819458cd0",
   "metadata": {},
   "source": [
    "- **hidden_layer_sizes** \n",
    "- **activation**\n",
    "- **solver**\n",
    "- **alpha**\n",
    "- **learning_rate_init**\n",
    "- **learning_rate**\n",
    "- **max_iter**\n",
    "- **batch_size**\n",
    "- **momentum**\n",
    "- **beta_1**\n",
    "- **beta_2**\n",
    "- **epsilon**\n",
    "- **tol**\n",
    "- **n_iter_no_change**\n",
    "- **early_stopping**\n",
    "- **shuffle**\n",
    "- **random_state**\n",
    "- **verbose**"
   ]
  },
  {
   "cell_type": "markdown",
   "id": "5aad87ed-d9ac-43ec-a085-9355098be561",
   "metadata": {},
   "source": [
    "## 12. XGB Regression"
   ]
  },
  {
   "cell_type": "markdown",
   "id": "9b8ad0fa-e186-492f-ac24-90262fa992eb",
   "metadata": {},
   "source": [
    "- **n_estimators** - Number of boosting rounds\n",
    "- **learning_rate** - Step size shrinkage\n",
    "- **max_depth** - Maximum Depth of Trees\n",
    "- **min_child_weight** - Minimum sum of instance weight in a child\n",
    "- **subsample** - Fraction of samples per tree\n",
    "- **colsample_bytree** - Fraction of features per tree\n",
    "- **gamma** - Minimum loss reduction for split\n",
    "- **lambda** - L2 regularization term\n",
    "- **alpha** - L1 regularization term"
   ]
  },
  {
   "cell_type": "markdown",
   "id": "b708071c-9ca0-4fbb-bec3-d9961f432b8f",
   "metadata": {},
   "source": [
    "## 13. LGBM Regression"
   ]
  },
  {
   "cell_type": "markdown",
   "id": "8a47554b-5389-4734-9416-ad130d7835a5",
   "metadata": {},
   "source": [
    "- **n_estimators** - Number of Boosting Rounds\n",
    "- **learning_rate** - Step size shrinkage\n",
    "- **max_depth** - Maximum tree depth\n",
    "- **num_leaves** - Number of leaves in a tree\n",
    "- **min_child_samples** - Minimum Samples per leaf\n",
    "- **subsample** - Fraction of data used per iteration\n",
    "- **colsample_bytree** - Fraction of features used per tree\n",
    "- **lambda_l1** - L1 regularization term\n",
    "- **lambda_l2** - L2 regularization term"
   ]
  },
  {
   "cell_type": "markdown",
   "id": "1319ced7-1124-4484-aa7f-44512350a2ca",
   "metadata": {},
   "source": [
    "## 14. CatBoost Regression"
   ]
  },
  {
   "cell_type": "markdown",
   "id": "941321e3-b115-46f8-9003-78d91c65bf3d",
   "metadata": {},
   "source": [
    "- **iterations** - Number of trees\n",
    "- **learning_rate** - Step size shrinkage\n",
    "- **depth** - Maximum depth of trees\n",
    "- **l2_leaf_reg** - L2 Regularization\n",
    "- **subsample** - Fraction of samples per tree\n",
    "- **colsample_bylevel** - Fraction of features per level\n",
    "- **bootstrap_type** - Sampling method ('Bayesian', 'Bernoulli', 'MVS')\n",
    "- **grow_policy** - Tree Growth Policy ('Symmetrictree', 'Depthwise', 'Lossguide')"
   ]
  },
  {
   "cell_type": "code",
   "execution_count": null,
   "id": "ef9acdd0-ffe4-4b8b-a9cd-4774dbab6cb8",
   "metadata": {},
   "outputs": [],
   "source": []
  }
 ],
 "metadata": {
  "kernelspec": {
   "display_name": "Python 3 (ipykernel)",
   "language": "python",
   "name": "python3"
  },
  "language_info": {
   "codemirror_mode": {
    "name": "ipython",
    "version": 3
   },
   "file_extension": ".py",
   "mimetype": "text/x-python",
   "name": "python",
   "nbconvert_exporter": "python",
   "pygments_lexer": "ipython3",
   "version": "3.12.4"
  }
 },
 "nbformat": 4,
 "nbformat_minor": 5
}
